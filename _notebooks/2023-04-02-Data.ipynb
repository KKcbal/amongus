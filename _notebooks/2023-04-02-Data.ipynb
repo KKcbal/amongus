{
 "cells": [
  {
   "cell_type": "code",
   "execution_count": null,
   "metadata": {},
   "outputs": [],
   "source": [
    "#  Data Structures- Hashmaps, Sets, Hash Tables, Hashing and Collisions\n",
    "> Observing hashmaps with python dictionaries\n",
    "- toc: true\n",
    "- categories: []\n",
    "- type: pbl\n",
    "- week: 28"
   ]
  },
  {
   "attachments": {},
   "cell_type": "markdown",
   "metadata": {},
   "source": [
    "# Notes - Data Analysis\n",
    "    - Data analysis is the process of examining, cleaning, transforming, and modeling data in order to extract useful information and draw conclusions.\n",
    "\n",
    "# The process of data analysis involves many steps\n",
    "    - Data collection: Gathering relevant data from various sources.\n",
    "\n",
    "    - Data cleaning: Removing inconsistencies, errors, or missing values from the data.\n",
    "\n",
    "    - Data transformation: Converting data into a format that is more suitable for analysis.\n",
    "\n",
    "    - Data modeling: Using statistical or machine learning techniques to analyze the data.\n",
    "\n",
    "    - Data visualization: Presenting the results of the analysis in a clear and concise manner using graphs, charts, or other visual aids."
   ]
  },
  {
   "attachments": {},
   "cell_type": "markdown",
   "metadata": {},
   "source": [
    "# Notes - Predicitive Analysis\n",
    "\n",
    "    - Predictive analysis is the process of using data, statistical algorithms, and machine learning techniques to identify the likelihood of future outcomes based on historical data. It is a branch of advanced analytics\n",
    "\n",
    "    - Predictive analysis involves extracting information from data sets and using it to predict patterns and future trends. It involves analyzing large amounts of data and identifying patterns and relationships that can be used to forecast future outcomes.\n",
    "\n",
    "# Examples\n",
    "\n",
    "    - Retail. At present, retailers are probably the leading users of predictive  -  analytics applications\n",
    "    -  Healthcare\n",
    "    - Internet of Things\n",
    "    - Sports\n",
    "    - Weather\n",
    "    - Insurance\n",
    "    - Financial Modeling\n",
    "    - Social Media Analysis"
   ]
  }
 ],
 "metadata": {
  "language_info": {
   "name": "python"
  },
  "orig_nbformat": 4
 },
 "nbformat": 4,
 "nbformat_minor": 2
}
