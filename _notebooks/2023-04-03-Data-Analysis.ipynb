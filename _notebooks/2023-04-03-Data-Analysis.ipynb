{
 "cells": [
  {
   "attachments": {},
   "cell_type": "markdown",
   "metadata": {},
   "source": [
    "#  Data Analysis / Predicitive Analysis\n",
    "- toc: true\n",
    "- categories: []\n",
    "- type: ap\n",
    "- week: 28"
   ]
  },
  {
   "attachments": {},
   "cell_type": "markdown",
   "metadata": {},
   "source": [
    "# What is Data Analysis\n",
    "Data analysis is the process of examining, cleaning, transforming, and modeling data in order to extract useful information and draw conclusions.\n",
    "\n",
    "# The process of data analysis \n",
    "Data collection: Gathering relevant data from various sources.\n",
    "\n",
    "Data cleaning: Removing inconsistencies, errors, or missing values from the data.\n",
    "\n",
    "Data transformation: Converting data into a format that is more suitable for analysis.\n",
    "\n",
    "Data modeling: Using statistical or machine learning techniques to analyze the data.\n",
    "\n",
    "Data visualization: Presenting the results of the analysis in a clear and concise manner using graphs, charts, or other visual aids.\n",
    "\n",
    "# How we Might use Data Analysis in the real World\n",
    "\n",
    "Business: In business, data analysis is used to understand customer behavior, identify trends, and make informed decisions. \n",
    "\n",
    "Healthcare: data analysis can be used to identify patients at high risk of developing a certain disease, allowing healthcare providers to intervene early and prevent the disease from progressing.\n",
    "\n",
    "Education: In education, data analysis is used to improve student outcomes and inform policy decisions."
   ]
  },
  {
   "attachments": {},
   "cell_type": "markdown",
   "metadata": {},
   "source": [
    "# Notes - Predicitive Analysis\n",
    "\n",
    "Predictive analysis is the process of using data, statistical algorithms, and machine learning techniques to identify the likelihood of future outcomes based on historical data. It is a branch of advanced analytics\n",
    "\n",
    "Predictive analysis involves extracting information from data sets and using it to predict patterns and future trends. It involves analyzing large amounts of data and identifying patterns and relationships that can be used to forecast future outcomes.\n",
    "\n",
    "# Examples\n",
    "\n",
    "#1. Retail\n",
    "#2. Healthcare\n",
    "#3. Internet of Things\n",
    "#4. Sports\n",
    "#5, Weather\n",
    "#6. Insurance\n",
    "#7. Financial Modeling\n",
    "#8. Social Media Analysis"
   ]
  }
 ],
 "metadata": {
  "language_info": {
   "name": "python"
  },
  "orig_nbformat": 4
 },
 "nbformat": 4,
 "nbformat_minor": 2
}
