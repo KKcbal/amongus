{
 "cells": [
  {
   "attachments": {},
   "cell_type": "markdown",
   "metadata": {},
   "source": [
    "#  Data Analysis research\n",
    "- toc: true\n",
    "- categories: []\n",
    "- type: ap\n",
    "- week: 28"
   ]
  },
  {
   "attachments": {},
   "cell_type": "markdown",
   "metadata": {},
   "source": [
<<<<<<< HEAD
    "# Notes - Data Analysis\n",
    "    - Data analysis is the process of examining, cleaning, transforming, and modeling data in order to extract useful information and draw conclusions.\n",
    "\n",
    "# The process of data analysis involves many steps\n",
    "    - Data collection: Gathering relevant data from various sources.\n",
    "\n",
    "    - Data cleaning: Removing inconsistencies, errors, or missing values from the data.\n",
    "\n",
    "    - Data transformation: Converting data into a format that is more suitable for analysis.\n",
    "\n",
    "    - Data modeling: Using statistical or machine learning techniques to analyze the data.\n",
    "\n",
    "    - Data visualization: Presenting the results of the analysis in a clear and concise manner using graphs, charts, or other visual aids."
=======
    "# Hand Writting Recognition\n",
    "\n",
    "- Handwriting recognition involves using machine learning algorithms to recognize and translate handwritten text into digital format.\n",
    "- TensorFlow is a popular open-source machine learning library that is often used for handwriting recognition and other data analysis applications.\n",
    "- TensorFlow provides powerful tools for predictive modeling, allowing users to develop models that can make accurate predictions based on large datasets.\n",
    "- Other key tools for data analysis and predictive modeling include Pandas and NumPy, which are widely used for data manipulation and analysis.\n",
    "- Handwriting recognition requires a large dataset of handwriting samples, which can be challenging to acquire and clean.\n",
    "- Once a dataset has been gathered and cleaned, machine learning algorithms can be trained on the data to recognize patterns and make accurate predictions about new samples of handwriting."
>>>>>>> 3595f1ebfdfa75fb2d01ccb03be0a0f6fd9580f3
   ]
  },
  {
   "attachments": {},
   "cell_type": "markdown",
   "metadata": {},
   "source": [
<<<<<<< HEAD
    "# Notes - Predicitive Analysis\n",
    "\n",
    "    - Predictive analysis is the process of using data, statistical algorithms, and machine learning techniques to identify the likelihood of future outcomes based on historical data. It is a branch of advanced analytics\n",
    "\n",
    "    - Predictive analysis involves extracting information from data sets and using it to predict patterns and future trends. It involves analyzing large amounts of data and identifying patterns and relationships that can be used to forecast future outcomes.\n",
    "\n",
    "# Examples\n",
    "\n",
    "    - Retail. At present, retailers are probably the leading users of predictive  -  analytics applications\n",
    "    -  Healthcare\n",
    "    - Internet of Things\n",
    "    - Sports\n",
    "    - Weather\n",
    "    - Insurance\n",
    "    - Financial Modeling\n",
    "    - Social Media Analysis"
=======
    "# Deep Learning\n",
    "\n",
    "- Deep Learning is a subset of machine learning that involves training neural networks with multiple layers to analyze large and complex datasets.\n",
    "- Neural networks are modeled after the structure of the human brain and are composed of interconnected nodes that can learn from data inputs.\n",
    "- Deep Learning has become increasingly popular due to advancements in hardware, such as the availability of powerful GPUs that can accelerate training times.\n",
    "- Deep Learning has many practical applications, including image and speech recognition, natural language processing, and predictive modeling.\n",
    "- Deep Learning models can be trained using supervised, unsupervised, or reinforcement learning techniques.\n",
    "- One of the most common types of Deep Learning neural networks is the convolutional neural network (CNN), which is particularly effective for image recognition and classification tasks.\n",
    "- Another popular type of Deep Learning neural network is the recurrent neural network (RNN), which is well-suited for sequential data, such as natural language processing and time series forecasting.\n",
    "- Deep Learning requires large amounts of high-quality data to train models effectively, which can be a challenge for some applications."
   ]
  },
  {
   "attachments": {},
   "cell_type": "markdown",
   "metadata": {},
   "source": [
    "# Natural Language Processing (NLP)\n",
    "\n",
    "- Natural Language Processing is a subfield of Artificial Intelligence that focuses on enabling machines to understand and process human language.\n",
    "- NLP can be used to perform a variety of tasks, such as sentiment analysis, chatbots, text classification, and machine translation.\n",
    "- NLP requires a deep understanding of language and its nuances, including grammar, syntax, and context.\n",
    "- Some of the key techniques used in NLP include tokenization, part-of-speech tagging, named entity recognition, and dependency parsing.\n",
    "- One of the most popular libraries for NLP is the Natural Language Toolkit (NLTK), which provides a range of tools and resources for processing text data.\n",
    "- Other popular NLP libraries include spaCy, Stanford CoreNLP, and Gensim.\n",
    "- NLP models can be trained using supervised, unsupervised, or semi-supervised learning techniques.\n",
    "- One of the most challenging aspects of NLP is dealing with ambiguity and the many different ways that language can be used to convey meaning.\n",
    "- Some of the most exciting recent developments in NLP include the use of Deep Learning techniques, such as recurrent neural networks (RNNs) and transformer-based models like BERT and GPT-3. - These models have achieved state-of-the-art performance on a range of NLP tasks."
   ]
  },
  {
   "attachments": {},
   "cell_type": "markdown",
   "metadata": {},
   "source": [
    "# Computer Vision\n",
    "\n",
    "- Computer Vision enables machines to interpret and analyze visual data like images and video.\n",
    "- It has practical applications like facial recognition, object detection, and self-driving cars.\n",
    "- Key techniques include edge detection, feature extraction, and CNNs.\n",
    "- Popular datasets include ImageNet, COCO, Pascal VOC, and Open Images.\n",
    "- Challenges include variations in lighting and viewpoint.\n",
    "- Recent developments include GANs for image synthesis and neural architectures like YOLO and SSD for real-time object detection."
>>>>>>> 3595f1ebfdfa75fb2d01ccb03be0a0f6fd9580f3
   ]
  },
  {
   "cell_type": "code",
   "execution_count": null,
   "metadata": {},
   "outputs": [],
   "source": [
    "import pandas as pd\n",
    "import numpy as np\n",
    "import tensorflow as tf\n",
    "from tensorflow.keras.models import Sequential\n",
    "from tensorflow.keras.layers import Dense, Flatten\n",
    "\n",
    "# Load the MNIST dataset\n",
    "mnist = tf.keras.datasets.mnist\n",
    "(X_train, y_train), (X_test, y_test) = mnist.load_data()\n",
    "\n",
    "# Flatten the input images\n",
    "X_train = X_train.reshape(X_train.shape[0], -1)\n",
    "X_test = X_test.reshape(X_test.shape[0], -1)\n",
    "\n",
    "# Normalize the data\n",
    "X_train = X_train.astype('float32') / 255\n",
    "X_test = X_test.astype('float32') / 255\n",
    "\n",
    "# Convert the target variable to one-hot encoded vectors\n",
    "y_train = tf.keras.utils.to_categorical(y_train, num_classes=10)\n",
    "y_test = tf.keras.utils.to_categorical(y_test, num_classes=10)\n",
    "\n",
    "# Define the model architecture\n",
    "model = Sequential()\n",
    "model.add(Dense(128, activation='relu', input_shape=(784,)))\n",
    "model.add(Dense(10, activation='softmax'))\n",
    "\n",
    "# Compile the model\n",
    "model.compile(loss='categorical_crossentropy', optimizer='adam', metrics=['accuracy'])\n",
    "\n",
    "# Train the model\n",
    "model.fit(X_train, y_train, epochs=10, batch_size=32, validation_data=(X_test, y_test))\n",
    "\n",
    "# Evaluate the model\n",
    "test_loss, test_acc = model.evaluate(X_test, y_test)\n",
    "print('Test accuracy:', test_acc)"
   ]
  },
  {
   "attachments": {},
   "cell_type": "markdown",
   "metadata": {},
   "source": [
    "## Practice Problem"
   ]
  },
  {
   "attachments": {},
   "cell_type": "markdown",
   "metadata": {},
   "source": [
    "Brown school has decided to review their ratio of girls to boys in the Second grade class. They decided to count the number of boys in Second grade. This is an example of what type of data? Why?"
   ]
  }
 ],
 "metadata": {
  "language_info": {
   "name": "python"
  },
  "orig_nbformat": 4
 },
 "nbformat": 4,
 "nbformat_minor": 2
}
