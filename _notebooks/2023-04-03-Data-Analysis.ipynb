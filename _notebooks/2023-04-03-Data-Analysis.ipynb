{
 "cells": [
  {
   "attachments": {},
   "cell_type": "markdown",
   "metadata": {},
   "source": [
    "#  Data Analysis / Predicitive Analysis\n",
    "- toc: true\n",
    "- categories: []\n",
    "- type: ap\n",
    "- week: 28"
   ]
  },
  {
   "attachments": {},
   "cell_type": "markdown",
   "metadata": {},
   "source": [
    "# What is Data Analysis\n",
    "Data analysis is the process of examining, cleaning, transforming, and modeling data in order to extract useful information and draw conclusions.\n",
    "\n",
    "# The process of data analysis \n",
    "Data collection: Gathering relevant data from various sources.\n",
    "\n",
    "Data cleaning: Removing inconsistencies, errors, or missing values from the data.\n",
    "\n",
    "Data transformation: Converting data into a format that is more suitable for analysis.\n",
    "\n",
    "Data modeling: Using statistical or machine learning techniques to analyze the data.\n",
    "\n",
    "Data visualization: Presenting the results of the analysis in a clear and concise manner using graphs, charts, or other visual aids.\n",
    "\n",
    "# How we Might use Data Analysis in the real World\n",
    "\n",
    "Business: In business, data analysis is used to understand customer behavior, identify trends, and make informed decisions. \n",
    "\n",
    "Healthcare: For Exampple, data analysis can be used to identify patients at high risk of developing a certain disease, allowing healthcare providers to intervene early and prevent the disease from progressing.\n",
    "\n",
    "Education: In education, data analysis is used to improve student outcomes and inform policy decisions.\n",
    "\n",
    "![photo]({{site.baseurl}}/images/data ana.png)"
   ]
  },
  {
   "attachments": {},
   "cell_type": "markdown",
   "metadata": {},
   "source": []
  },
  {
   "attachments": {},
   "cell_type": "markdown",
   "metadata": {},
   "source": [
    "# Predictive analysis \n",
    "Predictive analysis is the process of using data, statistical algorithms, and machine learning techniques to identify the likelihood of future outcomes based on historical data. It is a branch of advanced analytics\n",
    "\n",
    "Predictive analysis involves extracting information from data sets and using it to predict patterns and future trends. It involves analyzing large amounts of data and identifying patterns and relationships that can be used to forecast future outcomes.\n",
    "\n",
    "## Real world scenario for predictive analysis \n",
    "\n",
    "Imagine that you are a marketing manager for a clothing company, and you want to predict which products will be popular in the upcoming season. You can use predictive analysis to analyze past sales data and customer behavior to make predictions about which products are likely to be successful in the future.\n",
    "\n",
    "To get started with predictive analysis, you will need to follow these basic steps:\n",
    "\n",
    "Define the problem: In this case, the problem is predicting which products will be popular in the upcoming season.\n",
    "\n",
    "Gather data: You will need to collect data on past sales, customer behavior, and other relevant factors.\n",
    "\n",
    "Prepare the data: You will need to clean and transform the data to make it usable for analysis.\n",
    "\n",
    "Choose a model: There are many different predictive models to choose from, such as linear regression, decision trees, and neural networks. You will need to choose the one that is best suited for your specific problem.\n",
    "\n",
    "Train the model: You will need to use the historical data to train the model and adjust its parameters.\n",
    "\n",
    "Evaluate the model: You will need to test the model using a separate set of data to see how accurate it is at making predictions.\n",
    "\n",
    "Use the model: Once you are satisfied with the model's accuracy, you can use it to make predictions about which products will be popular in the upcoming season.\n",
    "\n",
    "In conclusion, predictive analysis can be a powerful tool for making informed decisions in various industries, including marketing. By analyzing past data and making predictions about future events, you can gain a competitive edge and make more informed decisions."
   ]
  },
  {
   "cell_type": "code",
   "execution_count": 1,
   "metadata": {},
   "outputs": [
    {
     "name": "stdout",
     "output_type": "stream",
     "text": [
      "Mean squared error: 140625.0\n",
      "[912.5 812.5 600. ]\n"
     ]
    }
   ],
   "source": [
    "import pandas as pd\n",
    "from sklearn.preprocessing import OneHotEncoder\n",
    "from sklearn.model_selection import train_test_split\n",
    "from sklearn.linear_model import LinearRegression\n",
    "from sklearn.metrics import mean_squared_error\n",
    "\n",
    "# Create hypothetical dataset\n",
    "data = {'Product': ['Shirt', 'Jeans', 'Dress', 'Jacket', 'Skirt'],\n",
    "        'Color': ['Blue', 'Black', 'Red', 'Green', 'Yellow'],\n",
    "        'Size': ['S', 'M', 'L', 'XL', 'XXL'],\n",
    "        'Price': [25, 30, 40, 50, 35],\n",
    "        'Sales': [1000, 1200, 800, 600, 900]}\n",
    "df = pd.DataFrame(data)\n",
    "\n",
    "# One-hot encode categorical variables\n",
    "encoder = OneHotEncoder()\n",
    "X = encoder.fit_transform(df[['Color', 'Size']])\n",
    "y = df['Sales']\n",
    "\n",
    "# Split data into training and testing sets\n",
    "X_train, X_test, y_train, y_test = train_test_split(X, y, test_size=0.2, random_state=42)\n",
    "\n",
    "# Train linear regression model\n",
    "model = LinearRegression()\n",
    "model.fit(X_train, y_train)\n",
    "\n",
    "# Make predictions on testing data\n",
    "y_pred = model.predict(X_test)\n",
    "\n",
    "# Evaluate model accuracy\n",
    "mse = mean_squared_error(y_test, y_pred)\n",
    "print(f\"Mean squared error: {mse}\")\n",
    "\n",
    "# Make predictions on new data\n",
    "new_data = {'Color': ['Blue', 'Black', 'Green'],\n",
    "            'Size': ['M', 'L', 'XL']}\n",
    "new_df = pd.DataFrame(new_data)\n",
    "new_X = encoder.transform(new_df)\n",
    "new_y_pred = model.predict(new_X)\n",
    "print(new_y_pred)\n"
   ]
  },
  {
   "attachments": {},
   "cell_type": "markdown",
   "metadata": {},
   "source": [
    "- This code will output the mean squared error and predicted sales for the new products. Note that you can modify the dataset and add new products to make different predictions."
   ]
  },
  {
   "attachments": {},
   "cell_type": "markdown",
   "metadata": {},
   "source": [
    "# Hacks \n",
    "\n",
    "1. How can Numpy and Pandas be used to preprocess data for predictive analysis?\n",
    "3. What machine learning algorithms can be used for predictive analysis, and how do they differ?\n",
    "4. Can you discuss some real-world applications of predictive analysis in different industries?\n",
    "7. Can you explain the role of feature engineering in predictive analysis, and how it can improve model accuracy?\n",
    "8. How can machine learning models be deployed in real-time applications for predictive analysis?\n",
    "9. Can you discuss some limitations of Numpy and Pandas, and when it might be necessary to use other data analysis tools?\n",
    "10. How can predictive analysis be used to improve decision-making and optimize business processes?"
   ]
  }
 ],
 "metadata": {
  "kernelspec": {
   "display_name": "base",
   "language": "python",
   "name": "python3"
  },
  "language_info": {
   "codemirror_mode": {
    "name": "ipython",
    "version": 3
   },
   "file_extension": ".py",
   "mimetype": "text/x-python",
   "name": "python",
   "nbconvert_exporter": "python",
   "pygments_lexer": "ipython3",
   "version": "3.9.12"
  },
  "orig_nbformat": 4
 },
 "nbformat": 4,
 "nbformat_minor": 2
}
