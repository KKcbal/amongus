{
 "cells": [
  {
   "attachments": {},
   "cell_type": "markdown",
   "metadata": {},
   "source": [
    "# Lesson Plan\n",
    "> THis is the lesson plan notebook that Eli wanted\n",
    "\n",
    "- toc: true \n",
    "- badges: true\n",
    "- comments: true\n",
    "- categories: [jupyter, week-30]"
   ]
  },
  {
   "attachments": {},
   "cell_type": "markdown",
   "metadata": {},
   "source": [
    "## Lesson Structure:\n",
    "- Introduce Data Analysis and Predictive Analysis\n",
    "- Data Analysis Discussion (Uses/Primary Industries)\n",
    "- Introduce Numpy/Numpy Tutorial\n",
    "- Using Pandas\n",
    "- Tenserflow and Neural Networks"
   ]
  },
  {
   "attachments": {},
   "cell_type": "markdown",
   "metadata": {},
   "source": [
    "## Teaching the Lesson\n",
    "\n",
    "- Explain definitions of each topic before getting into the code\n",
    "- Use code examples to explain code packages like Numpy and Tenserflow\n",
    "- Ask questions throughout the lessons\n",
    "- Explain Hacks at the end of each section and once again during a final summary"
   ]
  },
  {
   "attachments": {},
   "cell_type": "markdown",
   "metadata": {},
   "source": [
    "## Hacks\n",
    "- Practice problems ( Choose and answer 3 from our list )\n",
    "- Complete Hacks problems for using Numpy, Pandas, and Tenserflow\n",
    "- Create a diagram showing what you have learned about the topics above"
   ]
  }
 ],
 "metadata": {
  "language_info": {
   "name": "python"
  },
  "orig_nbformat": 4
 },
 "nbformat": 4,
 "nbformat_minor": 2
}
