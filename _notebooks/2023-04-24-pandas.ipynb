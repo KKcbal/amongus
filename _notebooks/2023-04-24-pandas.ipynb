{
 "cells": [
  {
   "attachments": {},
   "cell_type": "markdown",
   "metadata": {},
   "source": [
    "# Pandas\n",
    "> This lesson introduces students to the Pandas library in Python for data analysis and manipulation, covering topics such as data loading, table creation, manipulation, and visualization using real-world examples.\n",
    "\n",
    "- toc: true \n",
    "- badges: true\n",
    "- comments: true\n",
    "- categories: [jupyter, lesson]"
   ]
  },
  {
   "attachments": {},
   "cell_type": "markdown",
   "metadata": {},
   "source": [
    "# Overview:\n",
    "Pandas is a powerful tool in Python that is used for data analysis and manipulation. In this lesson, we will explore how to use Pandas to work with datasets, analyze them, and visualize the results.\n",
    "\n",
    "# Learning Objectives:\n",
    "By the end of this lesson, students should be able to:\n",
    "\n",
    "- Understand what Pandas is and why it is useful for data analysis\n",
    "- Load data into Pandas and create tables to store it\n",
    "- Use different functions in Pandas to manipulate data, such as filtering, sorting, and grouping\n",
    "- Visualize data using graphs and charts\n"
   ]
  },
  {
   "attachments": {},
   "cell_type": "markdown",
   "metadata": {},
   "source": [
    "## Question\n",
    "Who here has used numpy????"
   ]
  },
  {
   "attachments": {},
   "cell_type": "markdown",
   "metadata": {},
   "source": [
    "# what is panda?\n",
    "- Pandas is a Python library used for data analysis and manipulation.\n",
    "- it can handle different types of data, including CSV files and databases.\n",
    "- it also allows you to create tables to store and work with your data.\n",
    "- it has functions for filtering, sorting, and grouping data to make it easier to work with.\n",
    "- it also has tools for visualizing data with graphs and charts.\n",
    "- it is widely used in the industry for data analysis and is a valuable skill to learn.\n",
    "- companies that use Pandas include JPMorgan Chase, Google, NASA, the New York Times, and many others. "
   ]
  },
  {
   "attachments": {},
   "cell_type": "markdown",
   "metadata": {},
   "source": [
    "# but why is pandas useful? \n",
    "- it can provides tools for handling and manipulating tabular data, which is a common format for storing and analyzing data.\n",
    "- it can handle different types of data, including CSV files and databases.\n",
    "- it allows you to perform tasks such as filtering, sorting, and grouping data, making it easier to analyze and work with.\n",
    "- it has functions for handling missing data and can fill in or remove missing values, which is important for accurate data analysis.\n",
    "- it also has tools for creating visualizations such as graphs and charts, making it easier to communicate insights from the data.\n",
    "- it is fast and efficient, even for large datasets, which is important for time-critical data analysis.\n",
    "- it is widely used in the industry and has a large community of users and developers, making it easy to find support and resources."
   ]
  },
  {
   "attachments": {},
   "cell_type": "markdown",
   "metadata": {},
   "source": [
    "# how do i flipping use it? its so hard, my puny brain cant understand it\n",
    "it is actually really simple\n",
    "\n",
    "here is numpy doing simple math:"
   ]
  },
  {
   "attachments": {},
   "cell_type": "markdown",
   "metadata": {},
   "source": [
    "ps: do this for this to work on ur laptop:\n",
    "``` zsh\n",
    "wget https://raw.githubusercontent.com/KKcbal/amongus/master/_notebooks/files/example.csv\n",
    "```"
   ]
  },
  {
   "cell_type": "code",
   "execution_count": 2,
   "metadata": {},
   "outputs": [
    {
     "ename": "ModuleNotFoundError",
     "evalue": "No module named 'pandas'",
     "output_type": "error",
     "traceback": [
      "\u001b[0;31m---------------------------------------------------------------------------\u001b[0m",
      "\u001b[0;31mModuleNotFoundError\u001b[0m                       Traceback (most recent call last)",
      "Cell \u001b[0;32mIn[2], line 1\u001b[0m\n\u001b[0;32m----> 1\u001b[0m \u001b[39mimport\u001b[39;00m \u001b[39mpandas\u001b[39;00m \u001b[39mas\u001b[39;00m \u001b[39mpd\u001b[39;00m\n\u001b[1;32m      3\u001b[0m \u001b[39m# Read the CSV file into a Pandas DataFrame\u001b[39;00m\n\u001b[1;32m      4\u001b[0m df \u001b[39m=\u001b[39m pd\u001b[39m.\u001b[39mread_csv(\u001b[39m'\u001b[39m\u001b[39mexample.csv\u001b[39m\u001b[39m'\u001b[39m)\n",
      "\u001b[0;31mModuleNotFoundError\u001b[0m: No module named 'pandas'"
     ]
    }
   ],
   "source": [
    "import pandas as pd\n",
    "\n",
    "# read the csv file into pandas \n",
    "df = pd.read_csv('example.csv')\n",
    "\n",
    "# print the first five rows of the dataframe\n",
    "print(df.head())\n",
    "\n",
    "# print the average age of the people in the dataset\n",
    "print(\"Average age:\", df['Age'].mean())\n",
    "\n",
    "# filter the data to show only females\n",
    "females = df[df['Gender'] == 'Female']\n",
    "print(females)\n",
    "\n",
    "# sort the data by salary in descending order\n",
    "sorted_data = df.sort_values(by='Salary', ascending=False)\n",
    "print(sorted_data)\n",
    "\n"
   ]
  },
  {
   "attachments": {},
   "cell_type": "markdown",
   "metadata": {},
   "source": [
    "uh oh!!! no pandas 😢\n",
    "\n",
    "if see this error, enter these into your terminal: \n",
    "\n",
    "``` zsh\n",
    "pip install wheel\n",
    "pip install pandas\n",
    "```\n",
    "\n",
    "on stack overflow, it said pandas is disturbed through pip as a wheel. so you need that too. \n",
    "\n",
    "link to full forum if curious: \n",
    "https://stackoverflow.com/questions/33481974/importerror-no-module-named-pandas\n",
    "\n"
   ]
  },
  {
   "cell_type": "markdown",
   "metadata": {},
   "source": []
  },
  {
   "cell_type": "code",
   "execution_count": 7,
   "metadata": {},
   "outputs": [
    {
     "name": "stdout",
     "output_type": "stream",
     "text": [
      "    Name   Age   Gender   Salary\n",
      "0   John    28     Male    50000\n",
      "1  Sarah    32   Female    60000\n",
      "2   Mike    45     Male    75000\n",
      "3   Lisa    26   Female    45000\n",
      "4   Dave    39     Male    80000\n"
     ]
    },
    {
     "ename": "KeyError",
     "evalue": "'Age'",
     "output_type": "error",
     "traceback": [
      "\u001b[0;31m---------------------------------------------------------------------------\u001b[0m",
      "\u001b[0;31mKeyError\u001b[0m                                  Traceback (most recent call last)",
      "File \u001b[0;32m/opt/homebrew/lib/python3.11/site-packages/pandas/core/indexes/base.py:3652\u001b[0m, in \u001b[0;36mIndex.get_loc\u001b[0;34m(self, key)\u001b[0m\n\u001b[1;32m   3651\u001b[0m \u001b[39mtry\u001b[39;00m:\n\u001b[0;32m-> 3652\u001b[0m     \u001b[39mreturn\u001b[39;00m \u001b[39mself\u001b[39;49m\u001b[39m.\u001b[39;49m_engine\u001b[39m.\u001b[39;49mget_loc(casted_key)\n\u001b[1;32m   3653\u001b[0m \u001b[39mexcept\u001b[39;00m \u001b[39mKeyError\u001b[39;00m \u001b[39mas\u001b[39;00m err:\n",
      "File \u001b[0;32m/opt/homebrew/lib/python3.11/site-packages/pandas/_libs/index.pyx:147\u001b[0m, in \u001b[0;36mpandas._libs.index.IndexEngine.get_loc\u001b[0;34m()\u001b[0m\n",
      "File \u001b[0;32m/opt/homebrew/lib/python3.11/site-packages/pandas/_libs/index.pyx:176\u001b[0m, in \u001b[0;36mpandas._libs.index.IndexEngine.get_loc\u001b[0;34m()\u001b[0m\n",
      "File \u001b[0;32mpandas/_libs/hashtable_class_helper.pxi:7080\u001b[0m, in \u001b[0;36mpandas._libs.hashtable.PyObjectHashTable.get_item\u001b[0;34m()\u001b[0m\n",
      "File \u001b[0;32mpandas/_libs/hashtable_class_helper.pxi:7088\u001b[0m, in \u001b[0;36mpandas._libs.hashtable.PyObjectHashTable.get_item\u001b[0;34m()\u001b[0m\n",
      "\u001b[0;31mKeyError\u001b[0m: 'Age'",
      "\nThe above exception was the direct cause of the following exception:\n",
      "\u001b[0;31mKeyError\u001b[0m                                  Traceback (most recent call last)",
      "Cell \u001b[0;32mIn[7], line 10\u001b[0m\n\u001b[1;32m      7\u001b[0m \u001b[39mprint\u001b[39m(df\u001b[39m.\u001b[39mhead())\n\u001b[1;32m      9\u001b[0m \u001b[39m# print the average age of the people in the dataset\u001b[39;00m\n\u001b[0;32m---> 10\u001b[0m \u001b[39mprint\u001b[39m(\u001b[39m\"\u001b[39m\u001b[39mAverage age:\u001b[39m\u001b[39m\"\u001b[39m, df[\u001b[39m'\u001b[39;49m\u001b[39mAge\u001b[39;49m\u001b[39m'\u001b[39;49m]\u001b[39m.\u001b[39mmean())\n\u001b[1;32m     12\u001b[0m \u001b[39m# filter the data to show only females\u001b[39;00m\n\u001b[1;32m     13\u001b[0m females \u001b[39m=\u001b[39m df[df[\u001b[39m'\u001b[39m\u001b[39mGender\u001b[39m\u001b[39m'\u001b[39m] \u001b[39m==\u001b[39m \u001b[39m'\u001b[39m\u001b[39mFemale\u001b[39m\u001b[39m'\u001b[39m]\n",
      "File \u001b[0;32m/opt/homebrew/lib/python3.11/site-packages/pandas/core/frame.py:3761\u001b[0m, in \u001b[0;36mDataFrame.__getitem__\u001b[0;34m(self, key)\u001b[0m\n\u001b[1;32m   3759\u001b[0m \u001b[39mif\u001b[39;00m \u001b[39mself\u001b[39m\u001b[39m.\u001b[39mcolumns\u001b[39m.\u001b[39mnlevels \u001b[39m>\u001b[39m \u001b[39m1\u001b[39m:\n\u001b[1;32m   3760\u001b[0m     \u001b[39mreturn\u001b[39;00m \u001b[39mself\u001b[39m\u001b[39m.\u001b[39m_getitem_multilevel(key)\n\u001b[0;32m-> 3761\u001b[0m indexer \u001b[39m=\u001b[39m \u001b[39mself\u001b[39;49m\u001b[39m.\u001b[39;49mcolumns\u001b[39m.\u001b[39;49mget_loc(key)\n\u001b[1;32m   3762\u001b[0m \u001b[39mif\u001b[39;00m is_integer(indexer):\n\u001b[1;32m   3763\u001b[0m     indexer \u001b[39m=\u001b[39m [indexer]\n",
      "File \u001b[0;32m/opt/homebrew/lib/python3.11/site-packages/pandas/core/indexes/base.py:3654\u001b[0m, in \u001b[0;36mIndex.get_loc\u001b[0;34m(self, key)\u001b[0m\n\u001b[1;32m   3652\u001b[0m     \u001b[39mreturn\u001b[39;00m \u001b[39mself\u001b[39m\u001b[39m.\u001b[39m_engine\u001b[39m.\u001b[39mget_loc(casted_key)\n\u001b[1;32m   3653\u001b[0m \u001b[39mexcept\u001b[39;00m \u001b[39mKeyError\u001b[39;00m \u001b[39mas\u001b[39;00m err:\n\u001b[0;32m-> 3654\u001b[0m     \u001b[39mraise\u001b[39;00m \u001b[39mKeyError\u001b[39;00m(key) \u001b[39mfrom\u001b[39;00m \u001b[39merr\u001b[39;00m\n\u001b[1;32m   3655\u001b[0m \u001b[39mexcept\u001b[39;00m \u001b[39mTypeError\u001b[39;00m:\n\u001b[1;32m   3656\u001b[0m     \u001b[39m# If we have a listlike key, _check_indexing_error will raise\u001b[39;00m\n\u001b[1;32m   3657\u001b[0m     \u001b[39m#  InvalidIndexError. Otherwise we fall through and re-raise\u001b[39;00m\n\u001b[1;32m   3658\u001b[0m     \u001b[39m#  the TypeError.\u001b[39;00m\n\u001b[1;32m   3659\u001b[0m     \u001b[39mself\u001b[39m\u001b[39m.\u001b[39m_check_indexing_error(key)\n",
      "\u001b[0;31mKeyError\u001b[0m: 'Age'"
     ]
    }
   ],
   "source": [
    "import pandas as pd\n",
    "\n",
    "# read the csv file into pandas \n",
    "df = pd.read_csv('example.csv')\n",
    "\n",
    "# print the first five rows of the dataframe\n",
    "print(df.head())\n",
    "\n",
    "# print the average age of the people in the dataset\n",
    "print(\"Average age:\", df['Age'].mean())\n",
    "\n",
    "# filter the data to show only females\n",
    "females = df[df['Gender'] == 'Female']\n",
    "print(females)\n",
    "\n",
    "# sort the data by salary in descending order\n",
    "sorted_data = df.sort_values(by='Salary', ascending=False)\n",
    "print(sorted_data)"
   ]
  }
 ],
 "metadata": {
  "kernelspec": {
   "display_name": "Python 3",
   "language": "python",
   "name": "python3"
  },
  "language_info": {
   "codemirror_mode": {
    "name": "ipython",
    "version": 3
   },
   "file_extension": ".py",
   "mimetype": "text/x-python",
   "name": "python",
   "nbconvert_exporter": "python",
   "pygments_lexer": "ipython3",
   "version": "3.11.3"
  },
  "orig_nbformat": 4
 },
 "nbformat": 4,
 "nbformat_minor": 2
}
