{
 "cells": [
  {
   "attachments": {},
   "cell_type": "markdown",
   "metadata": {},
   "source": [
    "# Pandas\n",
    "> This lesson introduces students to the Pandas library in Python for data analysis and manipulation, covering topics such as data loading, table creation, manipulation, and visualization using real-world examples.\n",
    "\n",
    "- toc: true \n",
    "- badges: true\n",
    "- comments: true\n",
    "- categories: [jupyter, lesson]"
   ]
  },
  {
   "attachments": {},
   "cell_type": "markdown",
   "metadata": {},
   "source": [
    "# before we start this portion of the lesson:\n",
    "check if you have pip installed since we are going to be installing some libraries today!!!!!!\n",
    "if you arnt sure if you have pip, check it by running this command:\n",
    "```zsh \n",
    "pip\n",
    "```\n",
    "if your terminal says \"command not found\" or something else on linux, run this:\n",
    "```zsh\n",
    "python3 -m ensurepip --default-pip\n",
    "```"
   ]
  },
  {
   "attachments": {},
   "cell_type": "markdown",
   "metadata": {},
   "source": [
    "# Overview:\n",
    "Pandas is a powerful tool in Python that is used for data analysis and manipulation. In this lesson, we will explore how to use Pandas to work with datasets, analyze them, and visualize the results.\n",
    "\n",
    "# Learning Objectives:\n",
    "By the end of this lesson, students should be able to:\n",
    "\n",
    "- Understand what Pandas is and why it is useful for data analysis\n",
    "- Load data into Pandas and create tables to store it\n",
    "- Use different functions in Pandas to manipulate data, such as filtering, sorting, and grouping\n",
    "- Visualize data using graphs and charts\n"
   ]
  },
  {
   "attachments": {},
   "cell_type": "markdown",
   "metadata": {},
   "source": [
    "## Question\n",
    "Who here has used numpy????"
   ]
  },
  {
   "attachments": {},
   "cell_type": "markdown",
   "metadata": {},
   "source": [
    "# what is panda?\n",
    "- Pandas is a Python library used for data analysis and manipulation.\n",
    "- it can handle different types of data, including CSV files and databases.\n",
    "- it also allows you to create tables to store and work with your data.\n",
    "- it has functions for filtering, sorting, and grouping data to make it easier to work with.\n",
    "- it also has tools for visualizing data with graphs and charts.\n",
    "- it is widely used in the industry for data analysis and is a valuable skill to learn.\n",
    "- companies that use Pandas include JPMorgan Chase, Google, NASA, the New York Times, and many others. "
   ]
  },
  {
   "attachments": {},
   "cell_type": "markdown",
   "metadata": {},
   "source": [
    "# Question #2 & 3:\n",
    "ps: 0.01 extra credit for those who answer. \n",
    "- which companies use pandas? \n",
    "- what is pandas?"
   ]
  },
  {
   "attachments": {},
   "cell_type": "markdown",
   "metadata": {},
   "source": [
    "# but why is pandas useful? \n",
    "- it can provides tools for handling and manipulating tabular data, which is a common format for storing and analyzing data.\n",
    "- it can handle different types of data, including CSV files and databases.\n",
    "- it allows you to perform tasks such as filtering, sorting, and grouping data, making it easier to analyze and work with.\n",
    "- it has functions for handling missing data and can fill in or remove missing values, which is important for accurate data analysis.\n",
    "- it also has tools for creating visualizations such as graphs and charts, making it easier to communicate insights from the data.\n",
    "- it is fast and efficient, even for large datasets, which is important for time-critical data analysis.\n",
    "- it is widely used in the industry and has a large community of users and developers, making it easy to find support and resources."
   ]
  },
  {
   "attachments": {},
   "cell_type": "markdown",
   "metadata": {},
   "source": [
    "# Question #4:\n",
    "- why is pandas useful? "
   ]
  },
  {
   "attachments": {},
   "cell_type": "markdown",
   "metadata": {},
   "source": [
    "# how do i flipping use it? its so hard, my puny brain cant understand it\n",
    "it is actually really simple\n",
    "\n",
    "here is numpy doing simple math:"
   ]
  },
  {
   "cell_type": "code",
   "execution_count": 2,
   "metadata": {},
   "outputs": [
    {
     "ename": "ModuleNotFoundError",
     "evalue": "No module named 'pandas'",
     "output_type": "error",
     "traceback": [
      "\u001b[0;31m---------------------------------------------------------------------------\u001b[0m",
      "\u001b[0;31mModuleNotFoundError\u001b[0m                       Traceback (most recent call last)",
      "Cell \u001b[0;32mIn[2], line 1\u001b[0m\n\u001b[0;32m----> 1\u001b[0m \u001b[39mimport\u001b[39;00m \u001b[39mpandas\u001b[39;00m \u001b[39mas\u001b[39;00m \u001b[39mpd\u001b[39;00m\n\u001b[1;32m      3\u001b[0m \u001b[39m# Read the CSV file into a Pandas DataFrame\u001b[39;00m\n\u001b[1;32m      4\u001b[0m df \u001b[39m=\u001b[39m pd\u001b[39m.\u001b[39mread_csv(\u001b[39m'\u001b[39m\u001b[39mexample.csv\u001b[39m\u001b[39m'\u001b[39m)\n",
      "\u001b[0;31mModuleNotFoundError\u001b[0m: No module named 'pandas'"
     ]
    }
   ],
   "source": [
    "import pandas as pd\n",
    "\n",
    "# read the csv file into pandas \n",
    "df = pd.read_csv('example.csv')\n",
    "\n",
    "# print the first five rows of the dataframe\n",
    "print(df.head())\n",
    "\n",
    "# print the average age of the people in the dataset\n",
    "print(\"Average age:\", df['Age'].mean())\n",
    "\n",
    "# filter the data to show only females\n",
    "females = df[df['Gender'] == 'Female']\n",
    "print(females)\n",
    "\n",
    "# sort the data by salary in descending order\n",
    "sorted_data = df.sort_values(by='Salary', ascending=False)\n",
    "print(sorted_data)\n",
    "\n"
   ]
  },
  {
   "attachments": {},
   "cell_type": "markdown",
   "metadata": {},
   "source": [
    "uh oh!!! no pandas 😢\n",
    "\n",
    "if see this error, enter these into your terminal: \n",
    "\n",
    "``` zsh\n",
    "pip install wheel\n",
    "pip install pandas\n",
    "```\n",
    "\n",
    "on stack overflow, it said pandas is disturbed through pip as a wheel. so you need that too. \n",
    "\n",
    "link to full forum if curious: \n",
    "https://stackoverflow.com/questions/33481974/importerror-no-module-named-pandas\n",
    "\n"
   ]
  },
  {
   "attachments": {},
   "cell_type": "markdown",
   "metadata": {},
   "source": [
    "ps: do this for this to work on ur laptop:\n",
    "``` zsh\n",
    "wget https://raw.githubusercontent.com/KKcbal/amongus/master/_notebooks/files/example.csv\n",
    "```"
   ]
  },
  {
   "attachments": {},
   "cell_type": "markdown",
   "metadata": {},
   "source": [
    "# example code on how to load a csv into a chart"
   ]
  },
  {
   "cell_type": "code",
   "execution_count": 53,
   "metadata": {},
   "outputs": [
    {
     "name": "stdout",
     "output_type": "stream",
     "text": [
      "           Name  Age  Gender Occupation\n",
      "0      John Doe   32    Male   Engineer\n",
      "1    Jane Smith   27  Female    Teacher\n",
      "2  Mike Johnson   45    Male    Manager\n",
      "3      Sara Lee   38  Female     Doctor\n",
      "4     David Kim   23    Male    Student\n",
      "Age Group\n",
      "30-40    7\n",
      "40-50    4\n",
      "<30      7\n",
      "Name: Name, dtype: int64\n"
     ]
    }
   ],
   "source": [
    "import pandas as pd\n",
    "\n",
    "# read the CSV file\n",
    "df = pd.read_csv('example.csv')\n",
    "\n",
    "# print the first five rows\n",
    "print(df.head())\n",
    "\n",
    "# define a function to assign each age to an age group\n",
    "def assign_age_group(age):\n",
    "    if age < 30:\n",
    "        return '<30'\n",
    "    elif age < 40:\n",
    "        return '30-40'\n",
    "    elif age < 50:\n",
    "        return '40-50'\n",
    "    else:\n",
    "        return '>50'\n",
    "\n",
    "# apply the function to the Age column to create a new column with age groups\n",
    "df['Age Group'] = df['Age'].apply(assign_age_group)\n",
    "\n",
    "# group by age group and count the number of people in each group\n",
    "age_counts = df.groupby('Age Group')['Name'].count()\n",
    "\n",
    "# print the age group counts\n",
    "print(age_counts)\n"
   ]
  },
  {
   "attachments": {},
   "cell_type": "markdown",
   "metadata": {},
   "source": [
    "# hwo to manipulate the data in pandas.  "
   ]
  },
  {
   "cell_type": "code",
   "execution_count": 54,
   "metadata": {},
   "outputs": [
    {
     "name": "stdout",
     "output_type": "stream",
     "text": [
      "           Name  Age  Gender Occupation\n",
      "0      John Doe   32    Male   Engineer\n",
      "1    Jane Smith   27  Female    Teacher\n",
      "2  Mike Johnson   45    Male    Manager\n",
      "3      Sara Lee   38  Female     Doctor\n",
      "4     David Kim   23    Male    Student\n",
      "                Name  Age  Gender               Occupation\n",
      "0           John Doe   32    Male                 Engineer\n",
      "2       Mike Johnson   45    Male                  Manager\n",
      "3           Sara Lee   38  Female                   Doctor\n",
      "6       Robert Green   41    Male                Architect\n",
      "7        Emily Davis   35  Female        Marketing Manager\n",
      "8   Carlos Hernandez   47    Male             Entrepreneur\n",
      "10         Kevin Lee   31    Male               Accountant\n",
      "12     Jacob Johnson   34    Male                   Lawyer\n",
      "13   Maria Rodriguez   39  Female               Consultant\n",
      "15    Victoria Brown   42  Female  Human Resources Manager\n",
      "17        Sophie Lee   30  Female          Project Manager\n",
      "                Name  Age  Gender               Occupation\n",
      "8   Carlos Hernandez   47    Male             Entrepreneur\n",
      "2       Mike Johnson   45    Male                  Manager\n",
      "15    Victoria Brown   42  Female  Human Resources Manager\n",
      "6       Robert Green   41    Male                Architect\n",
      "13   Maria Rodriguez   39  Female               Consultant\n",
      "3           Sara Lee   38  Female                   Doctor\n",
      "7        Emily Davis   35  Female        Marketing Manager\n",
      "12     Jacob Johnson   34    Male                   Lawyer\n",
      "0           John Doe   32    Male                 Engineer\n",
      "10         Kevin Lee   31    Male               Accountant\n",
      "17        Sophie Lee   30  Female          Project Manager\n",
      "5        Anna Garcia   29  Female       Software Developer\n",
      "14       Mark Taylor   28    Male             Web Designer\n",
      "1         Jane Smith   27  Female                  Teacher\n",
      "11      Rachel Baker   26  Female               Journalist\n",
      "9     Melissa Nguyen   25  Female         Graphic Designer\n",
      "16        Ethan Chen   24    Male       Research Assistant\n",
      "4          David Kim   23    Male                  Student\n",
      "Gender\n",
      "Female    32.333333\n",
      "Male      33.888889\n",
      "Name: Age, dtype: float64\n"
     ]
    }
   ],
   "source": [
    "import pandas as pd\n",
    "\n",
    "# load the csv file\n",
    "df = pd.read_csv('example.csv')\n",
    "\n",
    "# print the first five rows\n",
    "print(df.head())\n",
    "\n",
    "# filter the data to include only people aged 30 or older\n",
    "df_filtered = df[df['Age'] >= 30]\n",
    "\n",
    "# sort the data by age in descending order\n",
    "df_sorted = df.sort_values('Age', ascending=False)\n",
    "\n",
    "# group the data by gender and calculate the mean age for each group\n",
    "age_by_gender = df.groupby('Gender')['Age'].mean()\n",
    "\n",
    "# print the filtered data\n",
    "print(df_filtered)\n",
    "\n",
    "# print the sorted data\n",
    "print(df_sorted)\n",
    "\n",
    "# print the mean age by gender\n",
    "print(age_by_gender)\n"
   ]
  },
  {
   "attachments": {},
   "cell_type": "markdown",
   "metadata": {},
   "source": [
    "# how do i put it into a chart 😩\n",
    "here is how:"
   ]
  },
  {
   "cell_type": "code",
   "execution_count": 55,
   "metadata": {},
   "outputs": [
    {
     "ename": "ModuleNotFoundError",
     "evalue": "No module named 'matplotlib'",
     "output_type": "error",
     "traceback": [
      "\u001b[0;31m---------------------------------------------------------------------------\u001b[0m",
      "\u001b[0;31mModuleNotFoundError\u001b[0m                       Traceback (most recent call last)",
      "Cell \u001b[0;32mIn[55], line 2\u001b[0m\n\u001b[1;32m      1\u001b[0m \u001b[39mimport\u001b[39;00m \u001b[39mpandas\u001b[39;00m \u001b[39mas\u001b[39;00m \u001b[39mpd\u001b[39;00m\n\u001b[0;32m----> 2\u001b[0m \u001b[39mimport\u001b[39;00m \u001b[39mmatplotlib\u001b[39;00m\u001b[39m.\u001b[39;00m\u001b[39mpyplot\u001b[39;00m \u001b[39mas\u001b[39;00m \u001b[39mplt\u001b[39;00m\n\u001b[1;32m      4\u001b[0m \u001b[39m# read the CSV file\u001b[39;00m\n\u001b[1;32m      5\u001b[0m df \u001b[39m=\u001b[39m pd\u001b[39m.\u001b[39mread_csv(\u001b[39m'\u001b[39m\u001b[39mexample.csv\u001b[39m\u001b[39m'\u001b[39m)\n",
      "\u001b[0;31mModuleNotFoundError\u001b[0m: No module named 'matplotlib'"
     ]
    }
   ],
   "source": [
    "import pandas as pd\n",
    "import matplotlib.pyplot as plt\n",
    "\n",
    "# read the CSV file\n",
    "df = pd.read_csv('example.csv')\n",
    "\n",
    "# create a bar chart of the number of people in each age group\n",
    "age_groups = ['<30', '30-40', '40-50', '>50']\n",
    "age_counts = pd.cut(df['Age'], bins=[0, 30, 40, 50, df['Age'].max()], labels=age_groups, include_lowest=True).value_counts()\n",
    "plt.bar(age_counts.index, age_counts.values)\n",
    "plt.title('Number of people in each age group')\n",
    "plt.xlabel('Age group')\n",
    "plt.ylabel('Number of people')\n",
    "plt.show()\n",
    "\n",
    "# create a pie chart of the gender distribution\n",
    "gender_counts = df['Gender'].value_counts()\n",
    "plt.pie(gender_counts.values, labels=gender_counts.index, autopct='%1.1f%%')\n",
    "plt.title('Gender distribution')\n",
    "plt.show()\n",
    "\n",
    "# create a scatter plot of age vs. income\n",
    "plt.scatter(df['Age'], df['Income'])\n",
    "plt.title('Age vs. Income')\n",
    "plt.xlabel('Age')\n",
    "plt.ylabel('Income')\n",
    "plt.show()\n"
   ]
  },
  {
   "attachments": {},
   "cell_type": "markdown",
   "metadata": {},
   "source": [
    "uh oh!!!! another error!??!!??!?!  install this library: \n",
    "```zsh\n",
    "pip install matplotlib\n",
    "```"
   ]
  },
  {
   "cell_type": "code",
   "execution_count": 4,
   "metadata": {},
   "outputs": [
    {
     "ename": "ModuleNotFoundError",
     "evalue": "No module named 'matplotlib'",
     "output_type": "error",
     "traceback": [
      "\u001b[0;31m---------------------------------------------------------------------------\u001b[0m",
      "\u001b[0;31mModuleNotFoundError\u001b[0m                       Traceback (most recent call last)",
      "Cell \u001b[0;32mIn[4], line 2\u001b[0m\n\u001b[1;32m      1\u001b[0m \u001b[39mimport\u001b[39;00m \u001b[39mpandas\u001b[39;00m \u001b[39mas\u001b[39;00m \u001b[39mpd\u001b[39;00m\n\u001b[0;32m----> 2\u001b[0m \u001b[39mimport\u001b[39;00m \u001b[39mmatplotlib\u001b[39;00m\u001b[39m.\u001b[39;00m\u001b[39mpyplot\u001b[39;00m \u001b[39mas\u001b[39;00m \u001b[39mplt\u001b[39;00m\n\u001b[1;32m      4\u001b[0m \u001b[39m# read the CSV file\u001b[39;00m\n\u001b[1;32m      5\u001b[0m df \u001b[39m=\u001b[39m pd\u001b[39m.\u001b[39mread_csv(\u001b[39m'\u001b[39m\u001b[39mexample.csv\u001b[39m\u001b[39m'\u001b[39m)\n",
      "\u001b[0;31mModuleNotFoundError\u001b[0m: No module named 'matplotlib'"
     ]
    }
   ],
   "source": [
    "import pandas as pd\n",
    "import matplotlib.pyplot as plt\n",
    "\n",
    "# read the CSV file\n",
    "df = pd.read_csv('example.csv')\n",
    "\n",
    "# define age groups\n",
    "age_groups = ['<30', '30-40', '40-50', '>50']\n",
    "\n",
    "# create a new column with the age group for each person\n",
    "df['Age Group'] = pd.cut(df['Age'], bins=[0, 30, 40, 50, df['Age'].max()], labels=age_groups, include_lowest=True)\n",
    "\n",
    "# group by age group and count the number of people in each group\n",
    "age_counts = df.groupby('Age Group')['Name'].count()\n",
    "\n",
    "# create a bar chart of the age counts\n",
    "age_counts.plot(kind='bar')\n",
    "\n",
    "# set the title and axis labels\n",
    "plt.title('Number of People in Each Age Group')\n",
    "plt.xlabel('Age Group')\n",
    "plt.ylabel('Number of People')\n",
    "\n",
    "# show the chart\n",
    "plt.show()\n"
   ]
  }
 ],
 "metadata": {
  "kernelspec": {
   "display_name": "Python 3",
   "language": "python",
   "name": "python3"
  },
  "language_info": {
   "codemirror_mode": {
    "name": "ipython",
    "version": 3
   },
   "file_extension": ".py",
   "mimetype": "text/x-python",
   "name": "python",
   "nbconvert_exporter": "python",
   "pygments_lexer": "ipython3",
   "version": "3.11.3"
  },
  "orig_nbformat": 4
 },
 "nbformat": 4,
 "nbformat_minor": 2
}
