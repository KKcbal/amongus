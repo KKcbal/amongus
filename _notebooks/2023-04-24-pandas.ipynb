{
 "cells": [
  {
   "attachments": {},
   "cell_type": "markdown",
   "metadata": {},
   "source": [
    "# Pandas\n",
    "> This lesson introduces students to the Pandas library in Python for data analysis and manipulation, covering topics such as data loading, table creation, manipulation, and visualization using real-world examples.\n",
    "\n",
    "- toc: true \n",
    "- badges: true\n",
    "- comments: true\n",
    "- categories: [jupyter, lesson]"
   ]
  },
  {
   "attachments": {},
   "cell_type": "markdown",
   "metadata": {},
   "source": [
    "# Overview:\n",
    "Pandas is a powerful tool in Python that is used for data analysis and manipulation. In this lesson, we will explore how to use Pandas to work with datasets, analyze them, and visualize the results.\n",
    "\n",
    "# Learning Objectives:\n",
    "By the end of this lesson, students should be able to:\n",
    "\n",
    "- Understand what Pandas is and why it is useful for data analysis\n",
    "- Load data into Pandas and create tables to store it\n",
    "- Use different functions in Pandas to manipulate data, such as filtering, sorting, and grouping\n",
    "- Visualize data using graphs and charts\n"
   ]
  }
 ],
 "metadata": {
  "language_info": {
   "name": "python"
  },
  "orig_nbformat": 4
 },
 "nbformat": 4,
 "nbformat_minor": 2
}
