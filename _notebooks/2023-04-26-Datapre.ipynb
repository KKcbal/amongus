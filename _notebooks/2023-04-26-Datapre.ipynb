{
 "cells": [
  {
   "cell_type": "code",
   "execution_count": null,
   "metadata": {},
   "outputs": [],
   "source": [
    "#  Data Analysis / Predicitive Analysis\n",
    "- toc: true\n",
    "- categories: []\n",
    "- type: ap\n",
    "- week: 28"
   ]
  }
 ],
 "metadata": {
  "language_info": {
   "name": "python"
  },
  "orig_nbformat": 4
 },
 "nbformat": 4,
 "nbformat_minor": 2
}
